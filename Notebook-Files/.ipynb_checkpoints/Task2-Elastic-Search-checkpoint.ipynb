{
 "cells": [
  {
   "cell_type": "code",
   "execution_count": null,
   "id": "a15d3cde",
   "metadata": {},
   "outputs": [
    {
     "name": "stdout",
     "output_type": "stream",
     "text": [
      "Started Processing File : 109.txt\n",
      "Started Processing File : 111.txt\n",
      "Started Processing File : 151.txt\n",
      "Started Processing File : 160.txt\n",
      "Started Processing File : 177.txt\n",
      "Started Processing File : 179.txt\n",
      "Started Processing File : 181.txt\n",
      "Started Processing File : 196.txt\n",
      "Started Processing File : 199.txt\n",
      "Started Processing File : 220.txt\n",
      "Started Processing File : 222.txt\n"
     ]
    }
   ],
   "source": [
    "# Turn off unnecessary warnings\n",
    "import warnings\n",
    "warnings.filterwarnings(\"ignore\")\n",
    "\n",
    "# Import all the required packages\n",
    "import ssl\n",
    "import json\n",
    "import urllib\n",
    "import requests\n",
    "from elasticsearch import Elasticsearch\n",
    "from elasticsearch import RequestsHttpConnection\n",
    "\n",
    "# Main method\n",
    "if __name__ == \"__main__\":\n",
    "    # List of all article names in the repository\n",
    "    articleNames = [\"109.txt\", \"111.txt\", \"151.txt\", \"160.txt\", \"177.txt\", \n",
    "                    \"179.txt\",\"181.txt\", \"196.txt\", \"199.txt\", \"220.txt\", \n",
    "                    \"222.txt\", \"226.txt\", \"247.txt\", \"273.txt\", \"281.txt\", \n",
    "                    \"282.txt\", \"285.txt\", \"287.txt\", \"288.txt\", \"297.txt\", \n",
    "                    \"304.txt\", \"342.txt\", \"347.txt\", \"360.txt\", \"390.txt\", \n",
    "                    \"400.txt\", \"428.txt\", \"56.txt\", \"58.txt\", \"6.txt\"] \n",
    "    fileCount = len(articleNames)\n",
    "    \n",
    "    # Setup Elastic Search\n",
    "    elastic = Elasticsearch([{'host': 'localhost', 'port': 9200, 'use_ssl' : False, 'ssl_verify' : False}], timeout=30, max_retries=10)\n",
    "    \n",
    "    # Obtain requests from the page\n",
    "    req = requests.get(\"http://localhost:9200\", verify=False)\n",
    "    \n",
    "    # Use indexing\n",
    "    idx = 1\n",
    "    \n",
    "    content = \"\"\n",
    "    folderPath = \"https://raw.githubusercontent.com/SaiManasaVedantam/NLP-QA-System-Datasets/main/Pipeline-Output/Parsed-\"\n",
    "    for i in range(fileCount):\n",
    "        print(\"Started Processing File : \" + articleNames[i])\n",
    "        fileName = folderPath + articleNames[i]\n",
    "        response = urllib.request.urlopen(fileName)\n",
    "        webContents = response.read()\n",
    "        stringTypeData = webContents.decode(\"utf-8\")\n",
    "        content = stringTypeData\n",
    "        \n",
    "        # Convert to Json\n",
    "        jsonFile = json.loads(content)\n",
    "        \n",
    "        # Creating new index QA-Articles\n",
    "        for key, value in jsonFile.items():\n",
    "            elastic.index(index = \"articles\", doc_type = \"text\", id = idx, body = value)\n",
    "            # print(\"Here\")\n",
    "            idx += 1\n",
    "            \n",
    "    print(\"Elastic Search Successfully Completed !!!\")"
   ]
  },
  {
   "cell_type": "code",
   "execution_count": null,
   "id": "0fbcc2d1",
   "metadata": {},
   "outputs": [],
   "source": []
  }
 ],
 "metadata": {
  "kernelspec": {
   "display_name": "Python 3",
   "language": "python",
   "name": "python3"
  },
  "language_info": {
   "codemirror_mode": {
    "name": "ipython",
    "version": 3
   },
   "file_extension": ".py",
   "mimetype": "text/x-python",
   "name": "python",
   "nbconvert_exporter": "python",
   "pygments_lexer": "ipython3",
   "version": "3.8.8"
  }
 },
 "nbformat": 4,
 "nbformat_minor": 5
}
